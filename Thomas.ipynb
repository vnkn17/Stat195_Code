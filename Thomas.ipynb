{
 "cells": [
  {
   "cell_type": "code",
   "execution_count": null,
   "metadata": {},
   "outputs": [],
   "source": [
    "import numpy as np\n",
    "import scipy\n",
    "from scipy.stats import bernoulli\n",
    "from scipy import stats"
   ]
  },
  {
   "cell_type": "markdown",
   "metadata": {},
   "source": [
    "## Simulation code for determining house control"
   ]
  },
  {
   "cell_type": "code",
   "execution_count": null,
   "metadata": {},
   "outputs": [],
   "source": [
    "# probs is an array of probabilities that the democratic candidate will win\n",
    "def dems_take_house_indep(probs, nsims):\n",
    "    sims = np.empty((nsims, probs.shape[0]))\n",
    "      for i in range(probs.shape[0]):\n",
    "        sims[:,i] = scipy.stats.bernoulli.rvs(probs[i], size = nsims)\n",
    "    return np.sum(np.sum(sims, axis = 1) > probs.shape[0] / 2) / nsims"
   ]
  },
  {
   "cell_type": "code",
   "execution_count": null,
   "metadata": {},
   "outputs": [],
   "source": [
    "# https://twiecki.github.io/blog/2018/05/03/copulas/\n",
    "def dems_take_house_corr(probs, corr, nsims):\n",
    "    n = probs.shape[0]\n",
    "    cov = np.full((n,n), corr)\n",
    "    np.fill_diagonal(cov, 1)\n",
    "    mvnorm = scipy.stats.multivariate_normal(mean=np.zeros(n), cov = cov)\n",
    "    x = mvnorm.rvs(nsims)\n",
    "    x_unif = stats.norm.cdf(x)\n",
    "    sims = np.empty((nsims, probs.shape[0]))\n",
    "    for i in range(probs.shape[0]):\n",
    "        sims[:,i] = bernoulli.ppf(x_unif[:,i], probs[i])\n",
    "    return np.sum(np.sum(sims, axis = 1) > probs.shape[0] / 2) / nsims\n"
   ]
  }
 ],
 "metadata": {
  "kernelspec": {
   "display_name": "Python 3",
   "language": "python",
   "name": "python3"
  },
  "language_info": {
   "codemirror_mode": {
    "name": "ipython",
    "version": 3
   },
   "file_extension": ".py",
   "mimetype": "text/x-python",
   "name": "python",
   "nbconvert_exporter": "python",
   "pygments_lexer": "ipython3",
   "version": "3.6.4"
  }
 },
 "nbformat": 4,
 "nbformat_minor": 2
}
