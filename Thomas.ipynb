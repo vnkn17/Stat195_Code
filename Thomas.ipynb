{
 "cells": [
  {
   "cell_type": "code",
   "execution_count": 238,
   "metadata": {},
   "outputs": [],
   "source": [
    "import numpy as np\n",
    "import scipy\n",
    "from scipy.stats import bernoulli\n",
    "from scipy import stats\n",
    "import pandas as pd\n",
    "from sklearn.model_selection import train_test_split\n",
    "from sklearn.linear_model import LogisticRegression"
   ]
  },
  {
   "cell_type": "code",
   "execution_count": 239,
   "metadata": {},
   "outputs": [],
   "source": [
    "elec_2010 = pd.read_csv(\"Agg_2010.csv\")\n",
    "elec_2012 = pd.read_csv(\"Agg_2012.csv\")\n",
    "elec_2016 = pd.read_csv(\"Agg_2016.csv\")\n",
    "elec_final = pd.read_csv(\"Final_Aggregated.csv\")"
   ]
  },
  {
   "cell_type": "code",
   "execution_count": 256,
   "metadata": {},
   "outputs": [
    {
     "data": {
      "text/plain": [
       "Index(['Unnamed: 0', 'index', 'Cand_Id', 'Cand_Name', 'Cand_Office_Dist',\n",
       "       'Cand_Office_St', 'Cand_Party_Affiliation', 'D', 'DISTRICT', 'FEC ID#',\n",
       "       'Gender', 'Incumbent', 'Median_Income', 'Party_Previous_Vote_Share',\n",
       "       'Presidential_Approval_Rating', 'Primary.Vote.Percent', 'Raised',\n",
       "       'STATE', 'Same_Party_As_President', 'Spent', 'Unnamed: 0.1', 'Year',\n",
       "       'gov_party', 'labor_force', 'minority_percentage', 'name_commonness',\n",
       "       'percent_bachelor_or_above', 'recent_presidential_vote',\n",
       "       'seat_transition'],\n",
       "      dtype='object')"
      ]
     },
     "execution_count": 256,
     "metadata": {},
     "output_type": "execute_result"
    }
   ],
   "source": [
    "elec_final.columns"
   ]
  },
  {
   "cell_type": "code",
   "execution_count": 257,
   "metadata": {},
   "outputs": [
    {
     "name": "stderr",
     "output_type": "stream",
     "text": [
      "D:\\anaconda\\lib\\site-packages\\ipykernel_launcher.py:2: SettingWithCopyWarning: \n",
      "A value is trying to be set on a copy of a slice from a DataFrame.\n",
      "Try using .loc[row_indexer,col_indexer] = value instead\n",
      "\n",
      "See the caveats in the documentation: http://pandas.pydata.org/pandas-docs/stable/indexing.html#indexing-view-versus-copy\n",
      "  \n"
     ]
    }
   ],
   "source": [
    "X = elec_final[['Incumbent', 'Median_Income', 'Presidential_Approval_Rating', 'Primary.Vote.Percent', 'Raised', 'Same_Party_As_President', 'Spent', 'Year', 'gov_party', 'labor_force', 'minority_percentage', 'name_commonness', 'percent_bachelor_or_above', 'recent_presidential_vote']]\n",
    "X['gov_party'] = (X['gov_party'] == 'DEM').astype('int')\n",
    "\n",
    "# coding democrats as 1 and republicans as 0\n",
    "Y = (elec_final['Cand_Party_Affiliation']  == 'DEM').astype('int')\n",
    "\n",
    "# removing american samoa and guam\n",
    "X = X.drop(elec_final[elec_final['Cand_Office_St'].isin(['AS', 'GU'])].values[:,0])\n",
    "Y = Y.drop(elec_final[elec_final['Cand_Office_St'].isin(['AS', 'GU'])].values[:,0])\n",
    "X.replace('character(0)', 0, inplace = True)\n",
    "X['labor_force'] = X['labor_force'].astype('float64')"
   ]
  },
  {
   "cell_type": "code",
   "execution_count": 258,
   "metadata": {},
   "outputs": [],
   "source": [
    "X = X.values.astype('float64')\n",
    "Y = Y.values.astype('float64')"
   ]
  },
  {
   "cell_type": "code",
   "execution_count": 259,
   "metadata": {},
   "outputs": [],
   "source": [
    "# mean imputation on all columns\n",
    "means = np.nanmean(X, axis = 0) \n",
    "for m in range(len(means)):\n",
    "    X[np.isnan(X[:,m]), m] = means[m]"
   ]
  },
  {
   "cell_type": "code",
   "execution_count": 260,
   "metadata": {},
   "outputs": [],
   "source": [
    "X_train, X_test, y_train, y_test = train_test_split(X, Y, test_size = .2)"
   ]
  },
  {
   "cell_type": "code",
   "execution_count": 261,
   "metadata": {},
   "outputs": [],
   "source": [
    "clf = LogisticRegression(random_state=0, solver='lbfgs').fit(X_train, y_train)"
   ]
  },
  {
   "cell_type": "code",
   "execution_count": 262,
   "metadata": {},
   "outputs": [
    {
     "data": {
      "text/plain": [
       "0.5827686350435625"
      ]
     },
     "execution_count": 262,
     "metadata": {},
     "output_type": "execute_result"
    }
   ],
   "source": [
    "clf.score(X_train, y_train)"
   ]
  },
  {
   "cell_type": "code",
   "execution_count": 265,
   "metadata": {},
   "outputs": [
    {
     "name": "stdout",
     "output_type": "stream",
     "text": [
      "0.5945945945945946\n"
     ]
    }
   ],
   "source": [
    "clf.score(X_test, y_test)"
   ]
  },
  {
   "cell_type": "code",
   "execution_count": 267,
   "metadata": {},
   "outputs": [
    {
     "name": "stdout",
     "output_type": "stream",
     "text": [
      "1.0\n",
      "1.0\n"
     ]
    }
   ],
   "source": [
    "clf2 = LogisticRegression(penalty = 'l1').fit(X_train, y_train)\n",
    "print (clf2.score(X_train, y_train))\n",
    "print (clf2.score(X_test, y_test))"
   ]
  },
  {
   "cell_type": "markdown",
   "metadata": {},
   "source": [
    "## Simulation code for determining house control"
   ]
  },
  {
   "cell_type": "code",
   "execution_count": null,
   "metadata": {},
   "outputs": [],
   "source": [
    "# probs is an array of probabilities that the democratic candidate will win\n",
    "def dems_take_house_indep(probs, nsims):\n",
    "    sims = np.empty((nsims, probs.shape[0]))\n",
    "      for i in range(probs.shape[0]):\n",
    "        sims[:,i] = scipy.stats.bernoulli.rvs(probs[i], size = nsims)\n",
    "    return np.sum(np.sum(sims, axis = 1) > probs.shape[0] / 2) / nsims"
   ]
  },
  {
   "cell_type": "code",
   "execution_count": null,
   "metadata": {},
   "outputs": [],
   "source": [
    "# https://twiecki.github.io/blog/2018/05/03/copulas/\n",
    "def dems_take_house_corr(probs, corr, nsims):\n",
    "    n = probs.shape[0]\n",
    "    cov = np.full((n,n), corr)\n",
    "    np.fill_diagonal(cov, 1)\n",
    "    mvnorm = scipy.stats.multivariate_normal(mean=np.zeros(n), cov = cov)\n",
    "    x = mvnorm.rvs(nsims)\n",
    "    x_unif = stats.norm.cdf(x)\n",
    "    sims = np.empty((nsims, probs.shape[0]))\n",
    "    for i in range(probs.shape[0]):\n",
    "        sims[:,i] = bernoulli.ppf(x_unif[:,i], probs[i])\n",
    "    return np.sum(np.sum(sims, axis = 1) > probs.shape[0] / 2) / nsims\n"
   ]
  }
 ],
 "metadata": {
  "kernelspec": {
   "display_name": "Python 3",
   "language": "python",
   "name": "python3"
  },
  "language_info": {
   "codemirror_mode": {
    "name": "ipython",
    "version": 3
   },
   "file_extension": ".py",
   "mimetype": "text/x-python",
   "name": "python",
   "nbconvert_exporter": "python",
   "pygments_lexer": "ipython3",
   "version": "3.6.4"
  }
 },
 "nbformat": 4,
 "nbformat_minor": 2
}
